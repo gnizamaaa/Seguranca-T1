{
 "cells": [
  {
   "cell_type": "markdown",
   "metadata": {},
   "source": [
    "# Criando comunicação com o Cartesi"
   ]
  },
  {
   "cell_type": "markdown",
   "metadata": {},
   "source": [
    "## Gerando par de chaves"
   ]
  },
  {
   "cell_type": "code",
   "execution_count": 7,
   "metadata": {},
   "outputs": [],
   "source": [
    "from cryptography.hazmat.primitives.asymmetric import rsa\n",
    "from cryptography.hazmat.primitives import serialization\n",
    "\n",
    "# Generate private key\n",
    "private_key = rsa.generate_private_key(\n",
    "    public_exponent=65537,\n",
    "    key_size=2048,\n",
    ")\n",
    "\n",
    "# Generate public key\n",
    "public_key = private_key.public_key()\n",
    "\n",
    "# Serialize the private key\n",
    "private_pem = private_key.private_bytes(\n",
    "    encoding=serialization.Encoding.PEM,\n",
    "    format=serialization.PrivateFormat.TraditionalOpenSSL,\n",
    "    encryption_algorithm=serialization.NoEncryption()\n",
    ")\n",
    "\n",
    "# Serialize the public key\n",
    "public_pem = public_key.public_bytes(\n",
    "    encoding=serialization.Encoding.PEM,\n",
    "    format=serialization.PublicFormat.SubjectPublicKeyInfo\n",
    ")\n",
    "\n",
    "# Write the private key to a file\n",
    "with open('private_key.pem', 'wb') as private_file:\n",
    "    private_file.write(private_pem)\n",
    "\n",
    "# Write the public key to a file\n",
    "with open('public_key.pem', 'wb') as public_file:\n",
    "    public_file.write(public_pem)"
   ]
  },
  {
   "cell_type": "markdown",
   "metadata": {},
   "source": [
    "## Assinando mensagem com chave privada"
   ]
  },
  {
   "cell_type": "code",
   "execution_count": 8,
   "metadata": {},
   "outputs": [
    {
     "name": "stdout",
     "output_type": "stream",
     "text": [
      "Message has been signed and the signature is saved in 'signature.sig'.\n"
     ]
    }
   ],
   "source": [
    "from cryptography.hazmat.primitives import hashes\n",
    "from cryptography.hazmat.primitives.asymmetric import padding\n",
    "from cryptography.hazmat.primitives import serialization\n",
    "\n",
    "# Load the private key from the PEM file\n",
    "with open(\"private_key.pem\", \"rb\") as key_file:\n",
    "    private_key = serialization.load_pem_private_key(\n",
    "        key_file.read(),\n",
    "        password=None,\n",
    "    )\n",
    "\n",
    "# Load the message from the msg.txt file\n",
    "with open(\"mensage.txt\", \"rb\") as message_file:\n",
    "    message = message_file.read()\n",
    "\n",
    "# Sign the message\n",
    "signature = private_key.sign(\n",
    "    message,\n",
    "    padding.PSS(\n",
    "        mgf=padding.MGF1(hashes.SHA256()),\n",
    "        salt_length=padding.PSS.MAX_LENGTH\n",
    "    ),\n",
    "    hashes.SHA256()\n",
    ")\n",
    "\n",
    "# Write the signature to a file\n",
    "with open(\"signature.sig\", \"wb\") as signature_file:\n",
    "    signature_file.write(signature)\n",
    "\n",
    "print(\"Message has been signed and the signature is saved in 'signature.sig'.\")"
   ]
  },
  {
   "cell_type": "markdown",
   "metadata": {},
   "source": [
    "## Gerando JSON para envio ao Cartesi"
   ]
  },
  {
   "cell_type": "code",
   "execution_count": 9,
   "metadata": {},
   "outputs": [
    {
     "name": "stdout",
     "output_type": "stream",
     "text": [
      "JSON file 'message_data.json' has been created with the public key, raw message, and signed message.\n"
     ]
    }
   ],
   "source": [
    "import json\n",
    "from cryptography.hazmat.primitives import serialization\n",
    "\n",
    "# Load the public key from the PEM file\n",
    "with open(\"public_key.pem\", \"rb\") as key_file:\n",
    "    public_key = key_file.read().decode('utf-8')\n",
    "\n",
    "# Load the raw message from the msg.txt file\n",
    "with open(\"mensage.txt\", \"rb\") as message_file:\n",
    "    raw_message = message_file.read().decode('utf-8')\n",
    "\n",
    "# Load the signed message from the signature.sig file\n",
    "with open(\"signature.sig\", \"rb\") as signature_file:\n",
    "    signed_message = signature_file.read()\n",
    "\n",
    "# Convert the signed message to a base64 string for JSON serialization\n",
    "signed_message_base64 = signed_message.hex()\n",
    "\n",
    "# Create the dictionary with the public key, raw message, and signed message\n",
    "data = {\n",
    "    \"public_key\": public_key,\n",
    "    \"raw_message\": raw_message,\n",
    "    \"signed_message\": signed_message_base64,\n",
    "    \"revogation\": False  \n",
    "}\n",
    "\n",
    "# Write the dictionary to a JSON file\n",
    "with open(\"message_data.json\", \"w\") as json_file:\n",
    "    json.dump(data, json_file, indent=4)\n",
    "\n",
    "print(\"JSON file 'message_data.json' has been created with the public key, raw message, and signed message.\")\n"
   ]
  }
 ],
 "metadata": {
  "kernelspec": {
   "display_name": "Python 3",
   "language": "python",
   "name": "python3"
  },
  "language_info": {
   "codemirror_mode": {
    "name": "ipython",
    "version": 3
   },
   "file_extension": ".py",
   "mimetype": "text/x-python",
   "name": "python",
   "nbconvert_exporter": "python",
   "pygments_lexer": "ipython3",
   "version": "3.10.12"
  }
 },
 "nbformat": 4,
 "nbformat_minor": 2
}
